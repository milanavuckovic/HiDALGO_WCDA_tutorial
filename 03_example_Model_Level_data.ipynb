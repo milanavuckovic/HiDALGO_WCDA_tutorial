{
 "cells": [
  {
   "cell_type": "markdown",
   "metadata": {},
   "source": [
    "# Polytope example notebook - Moldel level data from High Resolution model"
   ]
  },
  {
   "cell_type": "markdown",
   "metadata": {},
   "source": [
    "This notebook will show you basic use of Polytope client.  \n",
    "It should be used as skeleton example for building Polytope API requests."
   ]
  },
  {
   "cell_type": "markdown",
   "metadata": {},
   "source": [
    "First we import Polytope Client and xarray library to inspect the data."
   ]
  },
  {
   "cell_type": "code",
   "execution_count": null,
   "metadata": {},
   "outputs": [],
   "source": [
    "from polytope.api import Client\n",
    "import xarray as xr"
   ]
  },
  {
   "cell_type": "markdown",
   "metadata": {},
   "source": [
    "In order to use the Client, we need to start it.  \n",
    "We can then list available collections. In HiDALGO Project users have the option to use 'hidalgo-mars' collection."
   ]
  },
  {
   "cell_type": "code",
   "execution_count": null,
   "metadata": {},
   "outputs": [],
   "source": [
    "c = Client()"
   ]
  },
  {
   "cell_type": "code",
   "execution_count": null,
   "metadata": {},
   "outputs": [],
   "source": [
    "c.list_collections()"
   ]
  },
  {
   "cell_type": "markdown",
   "metadata": {},
   "source": [
    "### Get model the temperature data on model levels\n",
    "This example will get us data on all 137 model levels, from 00 model run, first 12 steps from each run (0 to 11), for area around Hungary and at 0.5 by 0.5 degree resolution.  "
   ]
  },
  {
   "cell_type": "markdown",
   "metadata": {},
   "source": [
    "To build efficient Polytope request for data and spend least time in the queue, it is recomended that each request access only one tape with data.   \n",
    "For the data on Model Levels data from one forecast run (one date and one time) are on one tape. This means that it is recomended to have a separate request for each time and each date."
   ]
  },
  {
   "cell_type": "markdown",
   "metadata": {},
   "source": [
    "Model Level data is direct model output, not interpolated into any other levels. Latest version of IFS model has 137 levels, with 0 being the highest and 137 being the lowest level.\n",
    "You can read more about IFS model leves on [this link](https://www.ecmwf.int/en/forecasts/documentation-and-support/137-model-levels)."
   ]
  },
  {
   "cell_type": "markdown",
   "metadata": {},
   "source": [
    "In order to calculate parameter values on height levels you need to download all 137 model levels. "
   ]
  },
  {
   "cell_type": "markdown",
   "metadata": {},
   "source": [
    "When you are trying out requests, try coarser resolution until you're happy, so you get smaller files, and when you're happy, increase it to 0.1/0.1."
   ]
  },
  {
   "cell_type": "code",
   "execution_count": null,
   "metadata": {},
   "outputs": [],
   "source": [
    "request_00 = {\n",
    "    'stream': 'oper',\n",
    "    'levtype': 'ml',\n",
    "    'levelist': '1/to/137',\n",
    "    'param': 't',\n",
    "    'step': '0/1/2/3/4/5/6/7/8/9/10/11',\n",
    "    'time': '00',\n",
    "    'date': '20170305',\n",
    "    'type': 'fc',\n",
    "    'class': 'od',\n",
    "    'expver': '0001',\n",
    "    'area': '50/15/40/25',\n",
    "    'grid': '0.5/0.5'\n",
    "}"
   ]
  },
  {
   "cell_type": "code",
   "execution_count": null,
   "metadata": {},
   "outputs": [],
   "source": [
    "c.retrieve('hidalgo-mars', request_00, 'ml_t.grib')"
   ]
  },
  {
   "cell_type": "markdown",
   "metadata": {},
   "source": [
    "### Submitting a list of requests\n",
    "Sometimes we want to split our request into 2 smaller requests. We can then submit both requests together as a list.  \n",
    "Let's make a request that accesses the same set of data from the same date, just run from 12 UTC."
   ]
  },
  {
   "cell_type": "code",
   "execution_count": null,
   "metadata": {},
   "outputs": [],
   "source": [
    "request_12 = {\n",
    "    'stream': 'oper',\n",
    "    'levtype': 'ml',\n",
    "    'levelist': '1/to/137',\n",
    "    'param': 't',\n",
    "    'step': '0/1/2/3/4/5/6/7/8/9/10/11',\n",
    "    'time': '12',\n",
    "    'date': '20170305',\n",
    "    'type': 'fc',\n",
    "    'class': 'od',\n",
    "    'expver': '0001',\n",
    "    'area': '50/15/40/25',\n",
    "    'grid': '0.5/0.5'\n",
    "}"
   ]
  },
  {
   "cell_type": "markdown",
   "metadata": {},
   "source": [
    "These requests can then be submitted together. The result will be downloaded in the same file."
   ]
  },
  {
   "cell_type": "code",
   "execution_count": null,
   "metadata": {},
   "outputs": [],
   "source": [
    "c.retrieve('hidalgo-mars', [request_00,request_12], 'ml_t.grib')"
   ]
  },
  {
   "cell_type": "markdown",
   "metadata": {},
   "source": [
    "### Asynchronous retrieval "
   ]
  },
  {
   "cell_type": "markdown",
   "metadata": {},
   "source": [
    "If we want to submit a request but run it in background so we can do other things, asynchronous retrieval can also be done. "
   ]
  },
  {
   "cell_type": "code",
   "execution_count": null,
   "metadata": {},
   "outputs": [],
   "source": [
    "r = c.retrieve('hidalgo-mars', [request_00,request_12], 'ml_t.grib',\n",
    "               asynchronous = True)"
   ]
  },
  {
   "cell_type": "markdown",
   "metadata": {},
   "source": [
    "Now we can see the info of our requests or download the data when it is ready.  \n",
    "Each request is a member of the list so we can access each of them individually (`r[0]` or `r[1]` in our case)."
   ]
  },
  {
   "cell_type": "code",
   "execution_count": null,
   "metadata": {},
   "outputs": [],
   "source": [
    "r[1].describe()"
   ]
  },
  {
   "cell_type": "markdown",
   "metadata": {},
   "source": [
    "And download.  \n",
    "You can only dowlnoad each request from the list separately. By default they will be appended in the same file.  If for any reason you don't want this you can set parameter append=Flase."
   ]
  },
  {
   "cell_type": "code",
   "execution_count": null,
   "metadata": {},
   "outputs": [],
   "source": [
    "r[0].download()"
   ]
  },
  {
   "cell_type": "code",
   "execution_count": null,
   "metadata": {},
   "outputs": [],
   "source": [
    "r[1].download()"
   ]
  },
  {
   "cell_type": "markdown",
   "metadata": {},
   "source": [
    "We can inspect what is in our grib using xarray. Note that, when loaded in xarray vertical levels are called **hybrid**"
   ]
  },
  {
   "cell_type": "code",
   "execution_count": null,
   "metadata": {},
   "outputs": [],
   "source": [
    "ds = xr.open_dataset('ml_t.grib',engine='cfgrib')\n",
    "ds"
   ]
  },
  {
   "cell_type": "code",
   "execution_count": null,
   "metadata": {},
   "outputs": [],
   "source": [
    "ds.t.sel(time='2017-03-05 12:00:00',step=('05:00:00'),hybrid=3).plot()"
   ]
  }
 ],
 "metadata": {
  "kernelspec": {
   "display_name": "test",
   "language": "python",
   "name": "test"
  },
  "language_info": {
   "codemirror_mode": {
    "name": "ipython",
    "version": 3
   },
   "file_extension": ".py",
   "mimetype": "text/x-python",
   "name": "python",
   "nbconvert_exporter": "python",
   "pygments_lexer": "ipython3",
   "version": "3.7.7"
  }
 },
 "nbformat": 4,
 "nbformat_minor": 4
}
