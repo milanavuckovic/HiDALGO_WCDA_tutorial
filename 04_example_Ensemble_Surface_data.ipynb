{
 "cells": [
  {
   "cell_type": "markdown",
   "metadata": {},
   "source": [
    "<img src=\"images/one_logo.png\" width=\"500\"/> "
   ]
  },
  {
   "cell_type": "markdown",
   "metadata": {},
   "source": [
    "# Polytope requests examples - Perturbed Ensemble Surface forecast data\n",
    "\n",
    "This notebook holds example request for getting Surface forecast data from ECMWF's Ensemble forecast. \n",
    "\n",
    "The difference between deterministic and ensemble forecast is that Ensemble has 50 perturbed members. The data is organised in a different 'stream' which is **enfo** in this case, and we hav a new parameter 'number', which represent each ensemble member number (1-50).\n",
    "\n",
    "Before we can run the requests we need to import polytope (and xarray to later inspect the data) and start the client."
   ]
  },
  {
   "cell_type": "code",
   "execution_count": null,
   "metadata": {},
   "outputs": [],
   "source": [
    "!python3 -m pip install --upgrade git+https://git.ecmwf.int/scm/lex/polytope-client.git@master"
   ]
  },
  {
   "cell_type": "markdown",
   "metadata": {},
   "source": [
    "If you're working on **mybinder** you should already have **xarray, matplotlib** and **cfgrib** installed.  \n",
    "If you're working locally and don't have them installed, please run the next cell."
   ]
  },
  {
   "cell_type": "code",
   "execution_count": null,
   "metadata": {},
   "outputs": [],
   "source": [
    "import sys\n",
    "!conda install --yes --prefix {sys.prefix} xarray cfgrib matplotlib"
   ]
  },
  {
   "cell_type": "code",
   "execution_count": null,
   "metadata": {},
   "outputs": [],
   "source": [
    "from polytope.api import Client"
   ]
  },
  {
   "cell_type": "code",
   "execution_count": null,
   "metadata": {},
   "outputs": [],
   "source": [
    "import xarray as xr"
   ]
  },
  {
   "cell_type": "markdown",
   "metadata": {},
   "source": [
    "Insert here your email and ecmwf token, or username and password:"
   ]
  },
  {
   "cell_type": "code",
   "execution_count": null,
   "metadata": {},
   "outputs": [],
   "source": [
    "c = Client(user_email = 'johndoe@ecmwf.int',\n",
    "           user_key = '4j3s3d34n4sn335jacf3n3d4f4g61635')"
   ]
  },
  {
   "cell_type": "code",
   "execution_count": null,
   "metadata": {},
   "outputs": [],
   "source": [
    "c = Client(username = 'test1', password = 'password1')"
   ]
  },
  {
   "cell_type": "code",
   "execution_count": null,
   "metadata": {},
   "outputs": [],
   "source": [
    "c.list_collections()"
   ]
  },
  {
   "cell_type": "markdown",
   "metadata": {},
   "source": [
    "### Get 2m temperature - individual members\n",
    "This example request will download 2m temperature data for all 50 ensemble members. "
   ]
  },
  {
   "cell_type": "markdown",
   "metadata": {},
   "source": [
    "ECMWF ENSemble forecast data can be found in stream **enfo** (**en**semble **fo**recast).  \n",
    "Individual perturbed members have type **pf** (**p**erturbed **fo**ecast).  \n",
    "New keword here is **number** which can have values 0-50. Each number represent one ensemble member.  \n",
    "Syntax is similar to step or levelist syntax."
   ]
  },
  {
   "cell_type": "markdown",
   "metadata": {},
   "source": [
    "Full list of available SFC ensemble parameters you can find in archive catalogue on this link:  \n",
    "https://apps.ecmwf.int/archive-catalogue/?stream=enfo&levtype=sfc&time=00%3A00%3A00&expver=1&month=mar&year=2020&date=2020-03-08&type=pf&class=od  \n",
    "You can also see available steps there.  \n",
    "Data is available on 0.2x0.2 resolution, but we put 1x1 here to get smaller file for the example. "
   ]
  },
  {
   "cell_type": "code",
   "execution_count": null,
   "metadata": {},
   "outputs": [],
   "source": [
    "request1 = {\n",
    "    'stream': 'enfo',\n",
    "    'number': '1/to/10',\n",
    "    'levtype': 'sfc',\n",
    "    'param': '2t',\n",
    "    'step': '0/3/6/9/12',\n",
    "    'time': '00',\n",
    "    'date': '20200305',\n",
    "    'type': 'pf',\n",
    "    'class': 'od',\n",
    "    'expver': '0001',\n",
    "    'area': '50/15/40/25',\n",
    "    'grid': '1/1'\n",
    "}"
   ]
  },
  {
   "cell_type": "markdown",
   "metadata": {},
   "source": [
    "To retrieve the data just run the retrieve."
   ]
  },
  {
   "cell_type": "code",
   "execution_count": null,
   "metadata": {},
   "outputs": [],
   "source": [
    "c.retrieve('hidalgo-test', request1, 'data/pf_sfc.grib')"
   ]
  },
  {
   "cell_type": "code",
   "execution_count": null,
   "metadata": {},
   "outputs": [],
   "source": [
    "ds = xr.open_dataset('data/pf_sfc.grib',engine='cfgrib')\n",
    "ds"
   ]
  },
  {
   "cell_type": "markdown",
   "metadata": {},
   "source": [
    "There is a 51st member of our ensemble. It is so called Control forecast. This is the unperturbed member with the same configuration of model as high resolution forecast.  \n",
    "This data has type **cf** and since different types can't be mixed in the same request we have to write separate request for this data.  \n",
    "\n",
    "Everything is the same except **type = cf** and we need to remove number keyword."
   ]
  },
  {
   "cell_type": "code",
   "execution_count": null,
   "metadata": {},
   "outputs": [],
   "source": [
    "request2 = {\n",
    "    'stream': 'enfo',\n",
    "    'levtype': 'sfc',\n",
    "    'param': '2t',\n",
    "    'step': '0/3/6/9/12',\n",
    "    'time': '00',\n",
    "    'date': '20200305',\n",
    "    'type': 'cf',\n",
    "    'class': 'od',\n",
    "    'expver': '0001',\n",
    "    'area': '50/15/40/25',\n",
    "    'grid': '1/1'\n",
    "}"
   ]
  },
  {
   "cell_type": "markdown",
   "metadata": {},
   "source": [
    "Now we can run these 2 reqeusts together and save the output in the same file."
   ]
  },
  {
   "cell_type": "code",
   "execution_count": null,
   "metadata": {},
   "outputs": [],
   "source": [
    "c.retrieve('hidalgo-test', [request1,request2], 'data/ens_sfc.grib')"
   ]
  },
  {
   "cell_type": "markdown",
   "metadata": {},
   "source": [
    "If we inspect data now, we can notice that xarray and cfgrib can't handle grib file that has 2 diferent **types**.  \n",
    "But we can still read this grib using filter_by_keys and filter each type. Uncomment second or third row to load pf or cf data."
   ]
  },
  {
   "cell_type": "code",
   "execution_count": null,
   "metadata": {},
   "outputs": [],
   "source": [
    "ds = xr.open_dataset('data/sfc.grib',engine='cfgrib')\n",
    "#ds = xr.open_dataset('sfc.grib',engine='cfgrib', backend_kwargs={'filter_by_keys': {'dataType': 'pf'}})\n",
    "#ds = xr.open_dataset('sfc.grib',engine='cfgrib', backend_kwargs={'filter_by_keys': {'dataType': 'cf'}})\n",
    "ds"
   ]
  }
 ],
 "metadata": {
  "kernelspec": {
   "display_name": "test",
   "language": "python",
   "name": "test"
  },
  "language_info": {
   "codemirror_mode": {
    "name": "ipython",
    "version": 3
   },
   "file_extension": ".py",
   "mimetype": "text/x-python",
   "name": "python",
   "nbconvert_exporter": "python",
   "pygments_lexer": "ipython3",
   "version": "3.7.7"
  }
 },
 "nbformat": 4,
 "nbformat_minor": 4
}
