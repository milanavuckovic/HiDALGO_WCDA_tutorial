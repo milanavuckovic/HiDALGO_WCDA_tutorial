{
 "cells": [
  {
   "cell_type": "markdown",
   "metadata": {},
   "source": [
    "# Polytope requests examples - High Resolution Surface forecast data\n",
    "\n",
    "This notebook holds example request for getting Surface forecast data from ECMWF's High Resolution forecast. It is the first in set of notebooks to help you get ECMWF data using Polytope API.   \n",
    "\n",
    "Before we can run the requests we need to import polytope (and xarray to later inspect the data) and start the client."
   ]
  },
  {
   "cell_type": "code",
   "execution_count": 1,
   "metadata": {},
   "outputs": [],
   "source": [
    "from polytope.api import Client"
   ]
  },
  {
   "cell_type": "code",
   "execution_count": 2,
   "metadata": {},
   "outputs": [
    {
     "ename": "ModuleNotFoundError",
     "evalue": "No module named 'xarray'",
     "output_type": "error",
     "traceback": [
      "\u001b[0;31m---------------------------------------------------------------------------\u001b[0m",
      "\u001b[0;31mModuleNotFoundError\u001b[0m                       Traceback (most recent call last)",
      "\u001b[0;32m<ipython-input-2-b027d314c3e9>\u001b[0m in \u001b[0;36m<module>\u001b[0;34m()\u001b[0m\n\u001b[0;32m----> 1\u001b[0;31m \u001b[0;32mimport\u001b[0m \u001b[0mxarray\u001b[0m \u001b[0;32mas\u001b[0m \u001b[0mxr\u001b[0m\u001b[0;34m\u001b[0m\u001b[0;34m\u001b[0m\u001b[0m\n\u001b[0m",
      "\u001b[0;31mModuleNotFoundError\u001b[0m: No module named 'xarray'"
     ]
    }
   ],
   "source": [
    "import xarray as xr"
   ]
  },
  {
   "cell_type": "code",
   "execution_count": 3,
   "metadata": {},
   "outputs": [],
   "source": [
    "c = Client(user_email = 'johndoe@ecmwf.int',\n",
    "           user_key = '4j3s3d34n4sn335jacf3n3d4f4g61635')"
   ]
  },
  {
   "cell_type": "code",
   "execution_count": 5,
   "metadata": {},
   "outputs": [],
   "source": [
    "c = Client()"
   ]
  },
  {
   "cell_type": "markdown",
   "metadata": {},
   "source": [
    "We can list all the collections. Different users will have the access to different set of collections. HiDALGO users have the access to **hidalgo-mars** collection."
   ]
  },
  {
   "cell_type": "code",
   "execution_count": 6,
   "metadata": {},
   "outputs": [
    {
     "name": "stderr",
     "output_type": "stream",
     "text": [
      "2020-12-07 14:33:03 - INFO - Fetching collections...\n",
      "2020-12-07 14:33:03 - INFO - The following collections are available:\n",
      "  - debug\n",
      "  - dummy\n",
      "  - ecmwf-mars\n",
      "  - fdb-test\n",
      "  - hidalgo-mars\n",
      "  - lexis-mars\n",
      "  - mars-test\n",
      "  - webmars-test\n"
     ]
    },
    {
     "data": {
      "text/plain": [
       "['debug',\n",
       " 'dummy',\n",
       " 'ecmwf-mars',\n",
       " 'fdb-test',\n",
       " 'hidalgo-mars',\n",
       " 'lexis-mars',\n",
       " 'mars-test',\n",
       " 'webmars-test']"
      ]
     },
     "execution_count": 6,
     "metadata": {},
     "output_type": "execute_result"
    }
   ],
   "source": [
    "c.list_collections()"
   ]
  },
  {
   "cell_type": "markdown",
   "metadata": {},
   "source": [
    "### Get some surface parameters\n",
    "This example request will download a couple of surface forecast parameters. "
   ]
  },
  {
   "cell_type": "markdown",
   "metadata": {},
   "source": [
    "Most of the high resolution data is in stream **oper**. Type **fc** will give us forecast data. Since it is one surface data, we don't need to use keyword 'levelist'.  \n",
    "Full list of available SFC parameters you can find in archive catalogue on this link:  \n",
    "https://apps.ecmwf.int/archive-catalogue/?stream=oper&levtype=sfc&time=00%3A00%3A00&expver=1&month=mar&year=2020&date=2020-03-08&type=fc&class=od  \n",
    "ECMWF High resolution forecast is available at following steps:  \n",
    "1 hourly from 0 to 90  \n",
    "3 hourly from 93 to 144 and  \n",
    "6 hourly from 152 to 240 (360)  \n",
    "\n",
    "This request will download forecast data with starts on 5th March 2020 at 00 and 12 UTC, and steps from 0 to 11.  \n",
    "Parameters that will be downloaded are 2t - 2 metre temperature, and 10u/10v - u and v component of wind at 10 m.  \n",
    "**EXPVER** is version of forecasting model. Always keep this as 0001 as that is the latest model version.  \n",
    "\n",
    "**AREA** is geographical area. Numbers correspond to **North/West/South/East**.  \n",
    "\n",
    "**GRID** is controlling horizontal resolution of the data. High resolution data is in 0.1x0.1 and we can download any multiply of this reslution (0.2x0.2, 0.3x0.3....)"
   ]
  },
  {
   "cell_type": "code",
   "execution_count": 7,
   "metadata": {},
   "outputs": [],
   "source": [
    "request = {\n",
    "    'stream': 'oper',\n",
    "    'levtype': 'sfc',\n",
    "    'param': '2t/10u/10v',\n",
    "    'step': '0/1/2/3/4/5/6/7/8/9/10/11',\n",
    "    'time': '00/12',\n",
    "    'date': '20201108',\n",
    "    'type': 'fc',\n",
    "    'class': 'od',\n",
    "    'expver': '0001',\n",
    "    'area': '50/15/40/25',\n",
    "    'grid': '1/1'\n",
    "}"
   ]
  },
  {
   "cell_type": "markdown",
   "metadata": {},
   "source": [
    "To retrieve the data just run the retrieve."
   ]
  },
  {
   "cell_type": "code",
   "execution_count": 8,
   "metadata": {},
   "outputs": [
    {
     "name": "stderr",
     "output_type": "stream",
     "text": [
      "2020-12-07 14:33:13 - INFO - Sending request...\n",
      "{'request': {'area': '50/15/40/25',\n",
      "             'class': 'od',\n",
      "             'date': '20200305',\n",
      "             'expver': '0001',\n",
      "             'grid': '1/1',\n",
      "             'levtype': 'sfc',\n",
      "             'param': '2t/10u/10v',\n",
      "             'step': '0/1/2/3/4/5/6/7/8/9/10/11',\n",
      "             'stream': 'oper',\n",
      "             'time': '00/12',\n",
      "             'type': 'fc'},\n",
      " 'verb': 'retrieve'}\n",
      "2020-12-07 14:33:13 - INFO - Request accepted. Please poll http://polytope.ecmwf.int/api/v1/requests/11bbf91f-2865-4633-a217-059b389f1659 for status\n",
      "2020-12-07 14:33:13 - INFO - Checking request status (11bbf91f-2865-4633-a217-059b389f1659)...\n",
      "2020-12-07 14:33:13 - INFO - The current status of the request is 'queued'\n",
      "2020-12-07 14:33:13 - INFO - The current status of the request is 'processing'\n",
      "2020-12-07 14:36:04 - INFO - The current status of the request is 'processed'\n",
      "2020-12-07 14:36:04 - INFO - Starting data download (application/x-grib)...\n",
      "2020-12-07 14:36:04 - INFO - Saving data into sfc.grib...\n",
      "2020-12-07 14:36:04 - INFO - Data downloaded successfully\n",
      "2020-12-07 14:36:04 - INFO - Download rate 1.7MiB/s\n",
      "2020-12-07 14:36:04 - INFO - Data saved successfully into sfc.grib\n"
     ]
    },
    {
     "data": {
      "text/plain": [
       "['sfc.grib']"
      ]
     },
     "execution_count": 8,
     "metadata": {},
     "output_type": "execute_result"
    }
   ],
   "source": [
    "c.retrieve('hidalgo-mars', request, 'sfc.grib')"
   ]
  },
  {
   "cell_type": "code",
   "execution_count": null,
   "metadata": {},
   "outputs": [],
   "source": [
    "ds = xr.open_dataset('sfc.grib',engine='cfgrib')\n",
    "ds"
   ]
  },
  {
   "cell_type": "markdown",
   "metadata": {},
   "source": [
    "You can also append to an exsisting file. We will append the data from next day to the already dowloaded data."
   ]
  },
  {
   "cell_type": "code",
   "execution_count": 14,
   "metadata": {},
   "outputs": [],
   "source": [
    "request2 = {\n",
    "    'stream': 'oper',\n",
    "    'levtype': 'sfc',\n",
    "    'param': '2t/10u/10v',\n",
    "    'step': '0/1/2/3/4/5/6/7/8/9/10/11',\n",
    "    'time': '00/12',\n",
    "    'date': '20201105',\n",
    "    'type': 'fc',\n",
    "    'class': 'od',\n",
    "    'expver': '0001',\n",
    "    'area': '50/15/40/25',\n",
    "    'grid': '1/1'\n",
    "}"
   ]
  },
  {
   "cell_type": "code",
   "execution_count": 15,
   "metadata": {},
   "outputs": [
    {
     "name": "stderr",
     "output_type": "stream",
     "text": [
      "2020-12-07 14:42:40 - INFO - Sending request...\n",
      "{'request': {'area': '50/15/40/25',\n",
      "             'class': 'od',\n",
      "             'date': '20201105',\n",
      "             'expver': '0001',\n",
      "             'grid': '1/1',\n",
      "             'levtype': 'sfc',\n",
      "             'param': '2t/10u/10v',\n",
      "             'step': '0/1/2/3/4/5/6/7/8/9/10/11',\n",
      "             'stream': 'oper',\n",
      "             'time': '00/12',\n",
      "             'type': 'fc'},\n",
      " 'verb': 'retrieve'}\n",
      "2020-12-07 14:42:40 - INFO - Request accepted. Please poll http://polytope.ecmwf.int/api/v1/requests/f0753b2f-bcbd-44e1-be36-21c0808f6d74 for status\n",
      "2020-12-07 14:42:40 - INFO - Checking request status (f0753b2f-bcbd-44e1-be36-21c0808f6d74)...\n",
      "2020-12-07 14:42:40 - INFO - The current status of the request is 'queued'\n",
      "2020-12-07 14:42:41 - INFO - The current status of the request is 'processing'\n",
      "2020-12-07 14:42:50 - INFO - The current status of the request is 'processed'\n",
      "2020-12-07 14:42:50 - INFO - Starting data download (application/x-grib)...\n",
      "2020-12-07 14:42:50 - INFO - Saving data into sfc.grib...\n",
      "2020-12-07 14:42:50 - INFO - Data downloaded successfully\n",
      "2020-12-07 14:42:50 - INFO - Download rate 2.6MiB/s\n",
      "2020-12-07 14:42:50 - INFO - Data saved successfully into sfc.grib\n"
     ]
    },
    {
     "data": {
      "text/plain": [
       "['sfc.grib']"
      ]
     },
     "execution_count": 15,
     "metadata": {},
     "output_type": "execute_result"
    }
   ],
   "source": [
    "# Append to an existing file\n",
    "c.retrieve('hidalgo-mars', request2, 'sfc.grib', append = True)\n"
   ]
  },
  {
   "cell_type": "markdown",
   "metadata": {},
   "source": [
    "If we inspect data now, we can notice that there are 4 start times instead of 2."
   ]
  },
  {
   "cell_type": "code",
   "execution_count": null,
   "metadata": {},
   "outputs": [],
   "source": [
    "ds = xr.open_dataset('sfc.grib',engine='cfgrib')\n",
    "ds"
   ]
  },
  {
   "cell_type": "markdown",
   "metadata": {},
   "source": [
    "We can list our active requests:"
   ]
  },
  {
   "cell_type": "code",
   "execution_count": 19,
   "metadata": {
    "scrolled": true
   },
   "outputs": [
    {
     "name": "stderr",
     "output_type": "stream",
     "text": [
      "2020-12-07 14:46:40 - INFO - Fetching requests...\n",
      "2020-12-07 14:46:40 - INFO - The authenticated user has 153 active requests\n",
      "  - 692a1505-566b-40db-a4cf-243a6910a090 (processed) (retrieve)\n",
      "  - 7cfa6dd6-5fb1-42de-9bad-c626488a54dc (processed) (retrieve)\n",
      "  - aa7d8b78-fd78-4220-bcc7-e73b5b11f432 (processed) (retrieve)\n",
      "  - bd93377e-f836-40fe-bcb3-d1a48a3e6357 (processed) (retrieve)\n",
      "  - 0e25e62c-9212-4e7d-b645-4385f556371b (processed) (retrieve)\n",
      "  - 5d1c65a1-f2cc-42ca-ace8-5b76c54326d5 (processed) (retrieve)\n",
      "  - 84c5f47f-2efd-49d5-95ae-3cee464b5966 (processed) (retrieve)\n",
      "  - ebe8c1c4-3ef7-475c-b117-9bbd75a02316 (processed) (retrieve)\n",
      "  - 3bc1b83f-30ed-4585-95ef-3e9e997ae9ce (processed) (retrieve)\n",
      "  - e37a1e0f-354c-4f73-8079-e3f96a418e7e (processed) (retrieve)\n",
      "  - d6605ee7-dc0d-4a1c-ba50-3fada2a384ad (processed) (retrieve)\n",
      "  - 0ea8e38e-edab-4f80-863f-35c514fb6a3a (processed) (retrieve)\n",
      "  - 79226d7d-b246-46b9-a67b-01978d549549 (processed) (retrieve)\n",
      "  - 52761e47-9606-49ea-81fe-8f062df498cb (processed) (retrieve)\n",
      "  - 36c9064e-032b-4c17-ad56-4334285551f3 (processed) (retrieve)\n",
      "  - e3ea90d9-48a8-4375-a5db-9535e33f5d18 (processed) (retrieve)\n",
      "  - 8f5cd520-332c-41e5-bb18-0bc0173751ec (processed) (retrieve)\n",
      "  - 700bbad8-f6b1-4ce6-9b6a-5dc1af2b2a95 (processed) (retrieve)\n",
      "  - d33b420a-f371-4a18-a0c8-3c1c89f370c9 (failed) (retrieve)\n",
      "  - 0c1a1c74-110d-4abc-8927-57dbb157bb74 (failed) (retrieve)\n",
      "  - 8db0e1aa-8d02-4475-b258-c4ac7460ae0a (processed) (retrieve)\n",
      "  - 7df19b77-3a74-4be7-a6c6-2697c3359dbc (processed) (retrieve)\n",
      "  - a5eccce3-e133-40fd-996c-9ef9d0c8980c (processed) (retrieve)\n",
      "  - e6a7a9e5-855a-4d3a-bbac-785015492120 (processed) (retrieve)\n",
      "  - bc060a79-9108-43be-baa8-492a4e8a5066 (processed) (retrieve)\n",
      "  - 9854d12f-537d-41e1-8bb5-56bc3ca81e08 (processed) (retrieve)\n",
      "  - 6608e4a6-f545-4333-8704-c30cd940d7aa (processed) (retrieve)\n",
      "  - ed17b5db-51ef-4fe1-ba0b-546db1791883 (processed) (retrieve)\n",
      "  - 2c3b3638-e6e5-4bb3-bddb-0533c5a0846f (processed) (retrieve)\n",
      "  - c77303cc-c68a-4700-b601-9e9d3aed512b (processed) (retrieve)\n",
      "  - ff623b64-abf9-42cb-ac5e-054f257860e0 (processed) (retrieve)\n",
      "  - 25008642-1f0c-46df-87c4-6d438f2d4e28 (processed) (retrieve)\n",
      "  - 7360f7b4-90d0-4a2e-8a41-22ce395b02b0 (processed) (retrieve)\n",
      "  - 363aadf9-0026-4644-b82f-b665a1d6d261 (processed) (retrieve)\n",
      "  - 82826682-7d86-4598-9575-b30ac6a824ca (failed) (retrieve)\n",
      "  - be596feb-b0f9-4f6a-9622-56a6c8527c8d (failed) (retrieve)\n",
      "  - 26015e60-f246-490b-bc0c-6882be83c9ba (failed) (retrieve)\n",
      "  - d80749cd-a599-42e8-862d-3de435e8b605 (processed) (retrieve)\n",
      "  - 0f3c9b5a-a6a5-454a-b540-4364bc9d169f (processed) (retrieve)\n",
      "  - 36d81983-ba2f-4eea-adb4-8b08290da3c0 (processed) (retrieve)\n",
      "  - 0a162f52-bfc6-4dbd-8f01-81f69ee1a320 (processed) (retrieve)\n",
      "  - 83b39224-2443-48e0-9ec0-f0dc4cffc2f0 (processed) (retrieve)\n",
      "  - ddb03571-03d0-4e12-90ca-9e5356e7627c (processed) (retrieve)\n",
      "  - bb33fd16-fea6-4a05-b79e-a21adcf9f469 (processed) (retrieve)\n",
      "  - fd83de61-ef2f-426d-a558-0d0b027a654c (processed) (retrieve)\n",
      "  - 4b626775-a745-40e6-9447-6a88b736883b (processed) (retrieve)\n",
      "  - 7e9121ac-a6de-43cf-869d-a6e859c274a4 (processed) (retrieve)\n",
      "  - 4ca15f93-488b-495f-b824-98c7e041b7d3 (processed) (retrieve)\n",
      "  - 5bc9c1d6-409e-40dd-8ff5-11a824c20c64 (processed) (retrieve)\n",
      "  - d047c11e-41a1-4e93-a225-5303f5c3a6de (processed) (retrieve)\n",
      "  - a619073b-6830-4dca-a95e-0a7b81417f9f (processed) (retrieve)\n",
      "  - 96dbc87f-535c-4da1-9d93-bab6241efe9a (processed) (retrieve)\n",
      "  - e3a25d5d-74d6-4eb2-a9b1-4a37be914620 (failed) (retrieve)\n",
      "  - 2148fc03-7214-4d2a-97f9-90640c9544fc (processed) (retrieve)\n",
      "  - f0b17b4b-4fba-4fb9-9fc6-bbd74484718e (processed) (retrieve)\n",
      "  - 6a6186b8-4e78-46d4-a175-c81cab497b20 (processed) (retrieve)\n",
      "  - e9410652-ed5e-4821-9662-b55d33ca5f5f (processed) (retrieve)\n",
      "  - b47b3106-b616-4616-8711-5cb925670027 (processed) (retrieve)\n",
      "  - 253c2058-bb15-4bdf-8cec-257b7443baad (processed) (retrieve)\n",
      "  - a5f2dcc1-d86e-43bc-b0a0-1a0a0737b555 (processed) (retrieve)\n",
      "  - 436d4f23-e2f7-43d5-baee-a5b8a844d5ce (processed) (retrieve)\n",
      "  - 88b265f4-0520-4412-af1b-35696f49332f (processed) (retrieve)\n",
      "  - 38d060af-95d5-4602-8e94-ad8ab60d020a (processed) (retrieve)\n",
      "  - d74bbd01-26b9-4ef8-8846-47b58bc487c8 (processed) (retrieve)\n",
      "  - 1d2ee836-2c72-4ae8-bff7-3b97356e0c02 (processed) (retrieve)\n",
      "  - 184b89f9-86fe-4300-a1f2-f1a5db30ddba (processed) (retrieve)\n",
      "  - c2bb1228-92cd-4293-b75f-cf2e9f34bf93 (processed) (retrieve)\n",
      "  - d1867434-8622-475b-b2e0-68202f980c99 (processed) (retrieve)\n",
      "  - 4c703e4e-a088-4649-9a77-257a569f9deb (processed) (retrieve)\n",
      "  - 89b821f5-78ae-40f6-8019-60b938699b00 (processed) (retrieve)\n",
      "  - a5f6a0d7-068d-404b-99e0-b38d4b2f621a (processed) (retrieve)\n",
      "  - 525a5843-ab75-4f7c-984a-c35bbae5e7ed (processed) (retrieve)\n",
      "  - 1a4b7625-aab5-426c-868d-24a6c00a17ef (processed) (retrieve)\n",
      "  - ed06554a-8cc8-46a1-a862-62ef5e5a30a9 (failed) (retrieve)\n",
      "  - f210e64c-e3d4-4a4e-a9ba-f69be710b6c7 (processed) (retrieve)\n",
      "  - 265894c2-1268-4845-93b6-80f10ab7f969 (processed) (retrieve)\n",
      "  - 26d7a2b1-a2bd-4651-9318-268f3cf88da1 (processed) (retrieve)\n",
      "  - f452199d-3272-4146-9fcd-7b7b748dd643 (processed) (retrieve)\n",
      "  - 2f3cba6a-054c-45bf-a88b-36592df0c827 (processed) (retrieve)\n",
      "  - 8aa5748a-5553-483c-b6e3-ac53698e4e10 (processed) (retrieve)\n",
      "  - 5c1182c1-91a7-4e53-861b-86c33d43a243 (processed) (retrieve)\n",
      "  - 0ad3aac5-e2f0-45ec-a806-c36d7a055720 (processed) (retrieve)\n",
      "  - e2fc4e1c-2b82-4077-b60e-98fb06691d93 (processed) (retrieve)\n",
      "  - e29dd9f5-58a6-4939-98e4-b85a7e6554e4 (processed) (retrieve)\n",
      "  - 0c06d95d-2351-468b-9c03-e2b794124f06 (processed) (retrieve)\n",
      "  - 86bfae07-d246-497c-acf2-682b7d97ef77 (processed) (retrieve)\n",
      "  - 7474eeae-f3c9-43dc-8dba-12bc6dacb766 (processed) (retrieve)\n",
      "  - 77e3e559-0c02-49e7-9873-6b04143c7d40 (failed) (retrieve)\n",
      "  - 6ceb8679-c9c4-4af0-b80e-b485b5575df5 (processed) (retrieve)\n",
      "  - 8693a5b3-18b4-4579-ab1a-d20a3c7bdf6e (processed) (retrieve)\n",
      "  - a5f39c5a-5785-457b-83aa-13098cfdc4bd (failed) (retrieve)\n",
      "  - 94d6cfc3-2acc-4dd7-9558-9137a1b28a1f (processed) (retrieve)\n",
      "  - af36d798-ac55-4fdf-b593-25a593ee2bc3 (processed) (retrieve)\n",
      "  - 0baea983-0053-4959-8444-de9e9135daee (processed) (retrieve)\n",
      "  - 59078fc9-8231-40da-9890-bdc4ab4acb3f (failed) (retrieve)\n",
      "  - bae38158-d26a-46b6-95c2-eff145a058e0 (processed) (retrieve)\n",
      "  - df8ba684-5f01-416f-817a-668736b99bbb (processed) (retrieve)\n",
      "  - 93943aa5-478d-46eb-a563-afea56922052 (failed) (retrieve)\n",
      "  - d1c04cd0-00da-48cf-a617-48150ed7764b (processed) (retrieve)\n",
      "  - 81d61428-e12d-41e0-9e69-df87c31f1edd (processed) (retrieve)\n",
      "  - 557d0e51-00cf-4efb-8b5f-db68cb0cd545 (failed) (retrieve)\n",
      "  - 38d16b8c-e04b-44df-8cc6-dc0a52bdf554 (processed) (retrieve)\n",
      "  - 77ea5c58-77b2-49a3-b7c7-07636571178c (processed) (retrieve)\n",
      "  - d94132c6-499c-4185-bf16-1a0d73e05d32 (processed) (retrieve)\n",
      "  - 554df573-b307-49e1-869d-93c96a239ab9 (failed) (retrieve)\n",
      "  - 285634b6-6d4d-42a4-ad09-ffb9f6ed7d59 (processed) (retrieve)\n",
      "  - d458a039-7c0b-4756-896d-9de6ffc87a46 (processed) (retrieve)\n",
      "  - 08f14ab8-5403-4467-8631-f98328e00db6 (processed) (retrieve)\n",
      "  - af5ae6b9-e4c5-49fe-9d3e-feaa208bc317 (processed) (retrieve)\n",
      "  - 3911e8da-a423-4212-9650-62425dc5cd06 (processed) (retrieve)\n",
      "  - 62e5df86-d5bb-494f-bedb-25f2a6d3c473 (processed) (retrieve)\n",
      "  - f73bc364-d5e7-49eb-94b2-9a0367fe7785 (processed) (retrieve)\n",
      "  - 6c9f4b67-bfbf-4305-ac6d-a9baa5a5e6ab (processed) (retrieve)\n",
      "  - d2843a44-c882-42a9-9773-29c520882b7a (processed) (retrieve)\n",
      "  - 9c7e63a3-92d0-498c-aab3-a706105f97e2 (processed) (retrieve)\n",
      "  - 760ed0e3-f8c8-4b94-bc93-7a29fc708035 (processed) (retrieve)\n",
      "  - e7de2e75-07df-4f6e-957a-7110eabc2283 (processed) (retrieve)\n",
      "  - adca3b41-857d-4ad6-bcae-f5ae1ed1beca (processed) (retrieve)\n",
      "  - 385ad87b-92ae-4151-b787-ae4689be6f15 (processed) (retrieve)\n",
      "  - eab6c0fc-94a5-429c-8946-c91773f894ed (processed) (retrieve)\n",
      "  - d55a39ca-a623-4401-95eb-eb803fe8e51f (processed) (retrieve)\n",
      "  - 5a071df3-26f6-44de-a6d5-1773291122e3 (processed) (retrieve)\n",
      "  - 7e50ad51-4547-4ffc-b0f3-9b4a354ce909 (processed) (retrieve)\n",
      "  - 8a741045-1b80-4e87-af95-cfb8b5d1d3a2 (processed) (retrieve)\n",
      "  - 311b5692-4724-426c-9c88-98c511a46e9c (processed) (retrieve)\n",
      "  - 1c9c9796-9c10-4862-9b82-7ff6464c16b8 (processed) (retrieve)\n",
      "  - 06bee318-7b1a-4a66-9248-5977a05caff7 (processed) (retrieve)\n",
      "  - 7343134a-5420-4405-a7d1-b8bcb77650e4 (processed) (retrieve)\n",
      "  - da4e010c-a60a-42aa-88c1-6d4c0433183a (processed) (retrieve)\n",
      "  - 97d36407-b3f1-4c28-93f2-78d89c3e0f93 (processed) (retrieve)\n",
      "  - 531c8c17-0813-4888-8a0d-f00187d5dff7 (processed) (retrieve)\n",
      "  - e10d0c28-d027-430e-b680-902d3c9d904f (processed) (retrieve)\n",
      "  - b037db26-c1b9-4bcd-95f1-401d1eaf1903 (processed) (retrieve)\n",
      "  - 9ad3393f-5086-47b8-99d4-ffb905e12634 (processed) (retrieve)\n",
      "  - 945109bd-93b6-4ce1-be02-9bb588fac037 (processed) (retrieve)\n",
      "  - 1b3052e9-45b9-4614-beb2-25fae469e6db (processed) (retrieve)\n",
      "  - 2f6192f2-7fe3-47cf-ba80-d541630680e1 (processed) (retrieve)\n",
      "  - 981aa71d-91dd-41c9-9398-f1cf8f3e7127 (processed) (retrieve)\n",
      "  - 78a38ddd-6534-498e-81e9-6ca19d85cdad (processed) (retrieve)\n",
      "  - b3547859-6d02-4fdf-980f-49108e8db031 (processed) (retrieve)\n",
      "  - e4ec556c-2b0b-40b2-be6a-c23c6e45dbbc (processed) (retrieve)\n",
      "  - f9cd487f-b05d-47b2-9144-e2ac97ea2d0b (processed) (retrieve)\n",
      "  - a3dc4358-31de-4569-a344-0b18abe6ddac (processed) (retrieve)\n",
      "  - 3a85a1b9-1ba5-4734-86f4-c178d157a124 (processed) (retrieve)\n",
      "  - b55ef5c7-f1cf-4d02-8440-a453c0cafc66 (processed) (retrieve)\n",
      "  - 154d78e5-45fb-401b-8ec0-7ad07f61799b (processed) (retrieve)\n",
      "  - 0b3fa384-2a4b-4c90-ba3b-3ac767f9c3ac (failed) (retrieve)\n",
      "  - 5c653fdb-aff1-41ba-9d8a-d039d04b38b6 (failed) (retrieve)\n",
      "  - 11bbf91f-2865-4633-a217-059b389f1659 (processed) (retrieve)\n",
      "  - 6f077037-7145-44a9-bad5-dbf979f11487 (failed) (retrieve)\n",
      "  - 907c344c-ce7c-49f5-b66b-d42d2012b139 (failed) (retrieve)\n",
      "  - f0753b2f-bcbd-44e1-be36-21c0808f6d74 (processed) (retrieve)\n",
      "  - a9cb078a-9933-48f4-82ab-934a3097fd90 (processed) (retrieve)\n"
     ]
    }
   ],
   "source": [
    "ids = c.list_requests()"
   ]
  },
  {
   "cell_type": "markdown",
   "metadata": {},
   "source": [
    "We can get the data from different dates in one request too."
   ]
  },
  {
   "cell_type": "code",
   "execution_count": 16,
   "metadata": {},
   "outputs": [],
   "source": [
    "request3 = {\n",
    "    'stream': 'oper',\n",
    "    'levtype': 'sfc',\n",
    "    'param': '2t/10u/10v',\n",
    "    'step': '0/1/2/3/4/5/6/7/8/9/10/11',\n",
    "    'time': '00/12',\n",
    "    'date': '20200306/20200307/20200308/20200309/20200310/20200311/20200312/20200313',\n",
    "    'type': 'fc',\n",
    "    'class': 'od',\n",
    "    'expver': '0001',\n",
    "    'area': '50/15/40/25',\n",
    "    'grid': '1/1'\n",
    "}"
   ]
  },
  {
   "cell_type": "code",
   "execution_count": 17,
   "metadata": {},
   "outputs": [
    {
     "name": "stderr",
     "output_type": "stream",
     "text": [
      "2020-12-07 14:43:31 - INFO - Sending request...\n",
      "{'request': {'area': '50/15/40/25',\n",
      "             'class': 'od',\n",
      "             'date': '20200306/20200307/20200308/20200309/20200310/20200311/20200312/20200313',\n",
      "             'expver': '0001',\n",
      "             'grid': '1/1',\n",
      "             'levtype': 'sfc',\n",
      "             'param': '2t/10u/10v',\n",
      "             'step': '0/1/2/3/4/5/6/7/8/9/10/11',\n",
      "             'stream': 'oper',\n",
      "             'time': '00/12',\n",
      "             'type': 'fc'},\n",
      " 'verb': 'retrieve'}\n",
      "2020-12-07 14:43:31 - INFO - Request accepted. Please poll http://polytope.ecmwf.int/api/v1/requests/a9cb078a-9933-48f4-82ab-934a3097fd90 for status\n",
      "2020-12-07 14:43:31 - INFO - Checking request status (a9cb078a-9933-48f4-82ab-934a3097fd90)...\n",
      "2020-12-07 14:43:31 - INFO - The current status of the request is 'queued'\n",
      "2020-12-07 14:43:31 - INFO - The current status of the request is 'processing'\n",
      "2020-12-07 14:46:22 - INFO - The current status of the request is 'processed'\n",
      "2020-12-07 14:46:22 - INFO - Starting data download (application/x-grib)...\n",
      "2020-12-07 14:46:22 - INFO - Saving data into sfc_3.grib...\n",
      "2020-12-07 14:46:22 - INFO - Data downloaded successfully\n",
      "2020-12-07 14:46:22 - INFO - Download rate 7.2MiB/s\n",
      "2020-12-07 14:46:22 - INFO - Data saved successfully into sfc_3.grib\n"
     ]
    },
    {
     "data": {
      "text/plain": [
       "['sfc_3.grib']"
      ]
     },
     "execution_count": 17,
     "metadata": {},
     "output_type": "execute_result"
    }
   ],
   "source": [
    "c.retrieve('hidalgo-mars', request3, 'sfc_3.grib')"
   ]
  },
  {
   "cell_type": "code",
   "execution_count": null,
   "metadata": {},
   "outputs": [],
   "source": [
    "ds = xr.open_dataset('sfc_3.grib',engine='cfgrib')\n",
    "ds"
   ]
  },
  {
   "cell_type": "markdown",
   "metadata": {},
   "source": [
    "If we need several consecutive days we can write something like this and get the data from 6 to 10 March 2020."
   ]
  },
  {
   "cell_type": "code",
   "execution_count": null,
   "metadata": {},
   "outputs": [],
   "source": [
    "request4 = {\n",
    "    'stream': 'oper',\n",
    "    'levtype': 'sfc',\n",
    "    'param': '2t/10u/10v',\n",
    "    'step': '0/1/2/3/4/5/6/7/8/9/10/11',\n",
    "    'time': '00/12',\n",
    "    'date': '20200306/to/20200310',\n",
    "    'type': 'fc',\n",
    "    'class': 'od',\n",
    "    'expver': '0001',\n",
    "    'area': '50/15/40/25',\n",
    "    'grid': '1/1'\n",
    "}"
   ]
  },
  {
   "cell_type": "code",
   "execution_count": null,
   "metadata": {},
   "outputs": [],
   "source": [
    "c.retrieve('hidalgo-mars', request4, 'sfc_4.grib')"
   ]
  },
  {
   "cell_type": "code",
   "execution_count": null,
   "metadata": {},
   "outputs": [],
   "source": [
    "ds = xr.open_dataset('sfc_4.grib',engine='cfgrib')\n",
    "ds"
   ]
  }
 ],
 "metadata": {
  "kernelspec": {
   "display_name": "client",
   "language": "python",
   "name": "client"
  },
  "language_info": {
   "codemirror_mode": {
    "name": "ipython",
    "version": 3
   },
   "file_extension": ".py",
   "mimetype": "text/x-python",
   "name": "python",
   "nbconvert_exporter": "python",
   "pygments_lexer": "ipython3",
   "version": "3.7.8"
  }
 },
 "nbformat": 4,
 "nbformat_minor": 4
}
