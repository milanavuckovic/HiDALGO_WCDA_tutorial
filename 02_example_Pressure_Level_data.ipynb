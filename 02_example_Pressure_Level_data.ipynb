{
 "cells": [
  {
   "cell_type": "markdown",
   "metadata": {},
   "source": [
    "# Polytope example notebook - Pressure level data from High Resolution model"
   ]
  },
  {
   "cell_type": "markdown",
   "metadata": {},
   "source": [
    "This notebook will show you basic use of Polytope client.  \n",
    "It should be used as skeleton example for building Polytope API requests."
   ]
  },
  {
   "cell_type": "markdown",
   "metadata": {},
   "source": [
    "First we import Polytope Client and xarray library to inspect the data."
   ]
  },
  {
   "cell_type": "code",
   "execution_count": null,
   "metadata": {},
   "outputs": [],
   "source": [
    "from polytope.api import Client\n",
    "import xarray as xr"
   ]
  },
  {
   "cell_type": "markdown",
   "metadata": {},
   "source": [
    "In order to use the Client, we need to start it.  \n",
    "We can then list available collections. In HiDALGO Project users have the option to use 'hidalgo-mars' collection."
   ]
  },
  {
   "cell_type": "code",
   "execution_count": null,
   "metadata": {},
   "outputs": [],
   "source": [
    "c = Client()"
   ]
  },
  {
   "cell_type": "code",
   "execution_count": null,
   "metadata": {},
   "outputs": [],
   "source": [
    "c.list_collections()"
   ]
  },
  {
   "cell_type": "markdown",
   "metadata": {},
   "source": [
    "### Get the temperature data on pressure levels\n",
    "This example will get us data on all 13 pressure levels, from 00 model run, first 12 steps from each run (0 to 11), for area around Hungary and at 0.5 by 0.5 degree resolution.  "
   ]
  },
  {
   "cell_type": "markdown",
   "metadata": {},
   "source": [
    "To build efficient Polytope request for data and spend least time in the queue, it is recomended that each request access only one tape with data.   \n",
    "For the data on Pressure Levels data from one forecast run (one date and one time) are on one tape. This means that it is recomended to have a separate request for each time and each date."
   ]
  },
  {
   "cell_type": "markdown",
   "metadata": {},
   "source": [
    "Pressure Level data is interpolated into significant meteorological pressure levels (1/2/3/5/7/10/20/30/50/70/100/150/200/250/300/400/500/600/700/800/850/900/925/950/1000). "
   ]
  },
  {
   "cell_type": "markdown",
   "metadata": {},
   "source": [
    "When you are trying out requests, try coarser resolution until you're happy, so you get smaller files, and when you're happy, increase it to 0.1/0.1."
   ]
  },
  {
   "cell_type": "code",
   "execution_count": null,
   "metadata": {},
   "outputs": [],
   "source": [
    "request_1 = {\n",
    "    'stream': 'oper',\n",
    "    'levtype': 'pl',\n",
    "    'levelist': '1000/950/850/700/500/400/300/250/150/100/50',\n",
    "    'param': 't',\n",
    "    'step': '0/1/2/3/4/5/6/7/8/9/10/11',\n",
    "    'time': '00',\n",
    "    'date': '20170305',\n",
    "    'type': 'fc',\n",
    "    'class': 'od',\n",
    "    'expver': '0001',\n",
    "    'area': '50/15/40/25',\n",
    "    'grid': '0.5/0.5'\n",
    "}"
   ]
  },
  {
   "cell_type": "code",
   "execution_count": null,
   "metadata": {},
   "outputs": [],
   "source": [
    "c.retrieve('hidalgo-mars', request_1, 'pl_t.grib')"
   ]
  },
  {
   "cell_type": "markdown",
   "metadata": {},
   "source": [
    "### Submitting a list of requests\n",
    "Sometimes we want to split our request into 2 smaller requests. We can then submit both requests together as a list.  \n",
    "Let's make a request that accesses the same set of data from the same date, just run from 12 UTC."
   ]
  },
  {
   "cell_type": "code",
   "execution_count": null,
   "metadata": {},
   "outputs": [],
   "source": [
    "request_2 = {\n",
    "    'stream': 'oper',\n",
    "    'levtype': 'pl',\n",
    "    'levelist': '1000/950/850/700/500/400/300/250/150/100/50',\n",
    "    'param': 't',\n",
    "    'step': '0/1/2/3/4/5/6/7/8/9/10/11',\n",
    "    'time': '12',\n",
    "    'date': '20170305',\n",
    "    'type': 'fc',\n",
    "    'class': 'od',\n",
    "    'expver': '0001',\n",
    "    'area': '50/15/40/25',\n",
    "    'grid': '0.5/0.5'\n",
    "}"
   ]
  },
  {
   "cell_type": "markdown",
   "metadata": {},
   "source": [
    "Or we can add more requests..."
   ]
  },
  {
   "cell_type": "code",
   "execution_count": null,
   "metadata": {},
   "outputs": [],
   "source": [
    "request_3 = {\n",
    "    'stream': 'oper',\n",
    "    'levtype': 'pl',\n",
    "    'levelist': '1000/950/850/700/500/400/300/250/150/100/50',\n",
    "    'param': 'q',\n",
    "    'step': '0/1/2/3/4/5/6/7/8/9/10/11',\n",
    "    'time': '00',\n",
    "    'date': '20170305',\n",
    "    'type': 'fc',\n",
    "    'class': 'od',\n",
    "    'expver': '0001',\n",
    "    'area': '50/15/40/25',\n",
    "    'grid': '0.5/0.5'\n",
    "}\n",
    "request_4 = {\n",
    "    'stream': 'oper',\n",
    "    'levtype': 'pl',\n",
    "    'levelist': '1000/950/850/700/500/400/300/250/150/100/50',\n",
    "    'param': 'q',\n",
    "    'step': '0/1/2/3/4/5/6/7/8/9/10/11',\n",
    "    'time': '12',\n",
    "    'date': '20170305',\n",
    "    'type': 'fc',\n",
    "    'class': 'od',\n",
    "    'expver': '0001',\n",
    "    'area': '50/15/40/25',\n",
    "    'grid': '0.5/0.5'\n",
    "}\n",
    "request_5 = {\n",
    "    'stream': 'oper',\n",
    "    'levtype': 'pl',\n",
    "    'levelist': '1000/950/850/700/500/400/300/250/150/100/50',\n",
    "    'param': 'r',\n",
    "    'step': '0/1/2/3/4/5/6/7/8/9/10/11',\n",
    "    'time': '00',\n",
    "    'date': '20170305',\n",
    "    'type': 'fc',\n",
    "    'class': 'od',\n",
    "    'expver': '0001',\n",
    "    'area': '50/15/40/25',\n",
    "    'grid': '0.5/0.5'\n",
    "}\n",
    "request_6 = {\n",
    "    'stream': 'oper',\n",
    "    'levtype': 'pl',\n",
    "    'levelist': '1000/950/850/700/500/400/300/250/150/100/50',\n",
    "    'param': 'r',\n",
    "    'step': '0/1/2/3/4/5/6/7/8/9/10/11',\n",
    "    'time': '12',\n",
    "    'date': '20170305',\n",
    "    'type': 'fc',\n",
    "    'class': 'od',\n",
    "    'expver': '0001',\n",
    "    'area': '50/15/40/25',\n",
    "    'grid': '0.5/0.5'\n",
    "}"
   ]
  },
  {
   "cell_type": "markdown",
   "metadata": {},
   "source": [
    "These requests can then be submitted together. The result will be downloaded in the same file.  \n",
    "Note that at the moment one user can have maximum of 6 active requests, and all above that are put in the queue. So it is best not to run more than 6 requests in paralel."
   ]
  },
  {
   "cell_type": "code",
   "execution_count": null,
   "metadata": {},
   "outputs": [],
   "source": [
    "c.retrieve('hidalgo-mars', [request_1,request_2,request_3,\n",
    "                            request_4,request_5,request_6], 'pl_20170305.grib')"
   ]
  },
  {
   "cell_type": "code",
   "execution_count": null,
   "metadata": {},
   "outputs": [],
   "source": [
    "ds = xr.open_dataset('pl_20170305.grib',engine='cfgrib')\n",
    "ds"
   ]
  },
  {
   "cell_type": "code",
   "execution_count": null,
   "metadata": {},
   "outputs": [],
   "source": [
    "ds.t.sel(time='2017-03-05 12:00:00',step=('05:00:00'),isobaricInhPa=1000).plot()"
   ]
  }
 ],
 "metadata": {
  "kernelspec": {
   "display_name": "test",
   "language": "python",
   "name": "test"
  },
  "language_info": {
   "codemirror_mode": {
    "name": "ipython",
    "version": 3
   },
   "file_extension": ".py",
   "mimetype": "text/x-python",
   "name": "python",
   "nbconvert_exporter": "python",
   "pygments_lexer": "ipython3",
   "version": "3.7.7"
  }
 },
 "nbformat": 4,
 "nbformat_minor": 4
}
