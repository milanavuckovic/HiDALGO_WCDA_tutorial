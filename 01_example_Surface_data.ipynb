{
 "cells": [
  {
   "cell_type": "markdown",
   "metadata": {},
   "source": [
    "# Polytope requests examples - High Resolution Surface forecast data\n",
    "\n",
    "This notebook holds example request for getting Surface forecast data from ECMWF's High Resolution forecast. It is the first in set of notebooks to help you get ECMWF data using Polytope API.   \n",
    "\n",
    "Before we can run the requests we need to install and import polytope client (and xarray to later inspect the data) and start the client."
   ]
  },
  {
   "cell_type": "code",
   "execution_count": null,
   "metadata": {},
   "outputs": [],
   "source": [
    "!python3 -m pip install --upgrade git+https://git.ecmwf.int/scm/lex/polytope-client.git@master"
   ]
  },
  {
   "cell_type": "markdown",
   "metadata": {},
   "source": [
    "If you're working on **mybinder** you should already have **xarray, matplotlib** and **cfgrib** installed.  \n",
    "If you're working locally and don't have them installed, please run the next cell."
   ]
  },
  {
   "cell_type": "code",
   "execution_count": null,
   "metadata": {},
   "outputs": [],
   "source": [
    "import sys\n",
    "!conda install --yes --prefix {sys.prefix} xarray cfgrib matplotlib"
   ]
  },
  {
   "cell_type": "code",
   "execution_count": null,
   "metadata": {},
   "outputs": [],
   "source": [
    "from polytope.api import Client"
   ]
  },
  {
   "cell_type": "code",
   "execution_count": null,
   "metadata": {},
   "outputs": [],
   "source": [
    "import xarray as xr"
   ]
  },
  {
   "cell_type": "markdown",
   "metadata": {},
   "source": [
    "Insert here your email and ecmwf token:"
   ]
  },
  {
   "cell_type": "code",
   "execution_count": null,
   "metadata": {},
   "outputs": [],
   "source": [
    "c = Client(user_email = 'johndoe@ecmwf.int',\n",
    "           user_key = '4j3s3d34n4sn335jacf3n3d4f4g61635')"
   ]
  },
  {
   "cell_type": "markdown",
   "metadata": {},
   "source": [
    "We can list all the collections. Different users will have the access to different set of collections. HiDALGO users have the access to **hidalgo-mars** collection."
   ]
  },
  {
   "cell_type": "code",
   "execution_count": null,
   "metadata": {},
   "outputs": [],
   "source": [
    "c.list_collections()"
   ]
  },
  {
   "cell_type": "markdown",
   "metadata": {},
   "source": [
    "### Get some surface parameters\n",
    "This example request will download a couple of surface forecast parameters. "
   ]
  },
  {
   "cell_type": "markdown",
   "metadata": {},
   "source": [
    "Most of the high resolution data is in stream **oper**. Type **fc** will give us forecast data. Since it is one surface data, we don't need to use keyword 'levelist'.  \n",
    "Full list of available SFC parameters you can find in archive catalogue on this link:  \n",
    "https://apps.ecmwf.int/archive-catalogue/?stream=oper&levtype=sfc&time=00%3A00%3A00&expver=1&month=mar&year=2020&date=2020-03-08&type=fc&class=od  \n",
    "ECMWF High resolution forecast is available at following steps:  \n",
    "1 hourly from 0 to 90  \n",
    "3 hourly from 93 to 144 and  \n",
    "6 hourly from 152 to 240 (360)  \n",
    "\n",
    "This request will download forecast data with starts on 5th March 2020 at 00 and 12 UTC, and steps from 0 to 11.  \n",
    "Parameters that will be downloaded are 2t - 2 metre temperature, and 10u/10v - u and v component of wind at 10 m.  \n",
    "**EXPVER** is version of forecasting model. Always keep this as 0001 as that is the latest model version.  \n",
    "\n",
    "**AREA** is geographical area. Numbers correspond to **North/West/South/East**.  \n",
    "\n",
    "**GRID** is controlling horizontal resolution of the data. High resolution data is in 0.1x0.1 and we can download any multiply of this reslution (0.2x0.2, 0.3x0.3....)"
   ]
  },
  {
   "cell_type": "code",
   "execution_count": null,
   "metadata": {},
   "outputs": [],
   "source": [
    "request = {\n",
    "    'stream': 'oper',\n",
    "    'levtype': 'sfc',\n",
    "    'param': '2t/10u/10v',\n",
    "    'step': '0/1/2/3/4/5/6/7/8/9/10/11',\n",
    "    'time': '00/12',\n",
    "    'date': '20201105',\n",
    "    'type': 'fc',\n",
    "    'class': 'od',\n",
    "    'expver': '0001',\n",
    "    'area': '50/15/40/25',\n",
    "    'grid': '0.5/0.5'\n",
    "}"
   ]
  },
  {
   "cell_type": "markdown",
   "metadata": {},
   "source": [
    "To retrieve the data just run the retrieve."
   ]
  },
  {
   "cell_type": "code",
   "execution_count": null,
   "metadata": {},
   "outputs": [],
   "source": [
    "c.retrieve('hidalgo-mars', request, 'sfc.grib')"
   ]
  },
  {
   "cell_type": "code",
   "execution_count": null,
   "metadata": {},
   "outputs": [],
   "source": [
    "ds = xr.open_dataset('sfc.grib',engine='cfgrib')\n",
    "ds"
   ]
  },
  {
   "cell_type": "markdown",
   "metadata": {},
   "source": [
    "You can also append to an exsisting file. We will append the data from next day to the already dowloaded data."
   ]
  },
  {
   "cell_type": "code",
   "execution_count": null,
   "metadata": {},
   "outputs": [],
   "source": [
    "request2 = {\n",
    "    'stream': 'oper',\n",
    "    'levtype': 'sfc',\n",
    "    'param': '2t/10u/10v',\n",
    "    'step': '0/1/2/3/4/5/6/7/8/9/10/11',\n",
    "    'time': '00/12',\n",
    "    'date': '20201106',\n",
    "    'type': 'fc',\n",
    "    'class': 'od',\n",
    "    'expver': '0001',\n",
    "    'area': '50/15/40/25',\n",
    "    'grid': '0.5/0.5'\n",
    "}"
   ]
  },
  {
   "cell_type": "code",
   "execution_count": null,
   "metadata": {},
   "outputs": [],
   "source": [
    "# Append to an existing file\n",
    "c.retrieve('hidalgo-mars', request2, 'sfc.grib', append = True)\n"
   ]
  },
  {
   "cell_type": "markdown",
   "metadata": {},
   "source": [
    "If we inspect data now, we can notice that there are 4 start times instead of 2."
   ]
  },
  {
   "cell_type": "code",
   "execution_count": null,
   "metadata": {},
   "outputs": [],
   "source": [
    "ds = xr.open_dataset('sfc.grib',engine='cfgrib')\n",
    "ds"
   ]
  },
  {
   "cell_type": "markdown",
   "metadata": {},
   "source": [
    "We can plot just one field to see if the data we got makes sense"
   ]
  },
  {
   "cell_type": "code",
   "execution_count": null,
   "metadata": {},
   "outputs": [],
   "source": [
    "ds.t2m.sel(time='2020-11-05T00:00:00.000000000',step='01:00:00').plot()"
   ]
  },
  {
   "cell_type": "markdown",
   "metadata": {},
   "source": [
    "We can list our active requests:"
   ]
  },
  {
   "cell_type": "code",
   "execution_count": null,
   "metadata": {
    "scrolled": true
   },
   "outputs": [],
   "source": [
    "ids = c.list_requests()"
   ]
  },
  {
   "cell_type": "markdown",
   "metadata": {},
   "source": [
    "We can get the data from different dates in one request too."
   ]
  },
  {
   "cell_type": "code",
   "execution_count": null,
   "metadata": {},
   "outputs": [],
   "source": [
    "request3 = {\n",
    "    'stream': 'oper',\n",
    "    'levtype': 'sfc',\n",
    "    'param': '2t/10u/10v',\n",
    "    'step': '0/1/2/3/4/5/6/7/8/9/10/11',\n",
    "    'time': '00/12',\n",
    "    'date': '20200306/20200307/20200308/20200309/20200310',\n",
    "    'type': 'fc',\n",
    "    'class': 'od',\n",
    "    'expver': '0001',\n",
    "    'area': '50/15/40/25', #NWSE\n",
    "    'grid': '0.5/0.5'\n",
    "}"
   ]
  },
  {
   "cell_type": "code",
   "execution_count": null,
   "metadata": {},
   "outputs": [],
   "source": [
    "c.retrieve('hidalgo-mars', request3, 'sfc_3.grib')"
   ]
  },
  {
   "cell_type": "code",
   "execution_count": null,
   "metadata": {},
   "outputs": [],
   "source": [
    "ds = xr.open_dataset('sfc_3.grib',engine='cfgrib')\n",
    "ds"
   ]
  },
  {
   "cell_type": "markdown",
   "metadata": {},
   "source": [
    "If we need several consecutive days we can write something like this and get the data from 6 to 10 March 2020."
   ]
  },
  {
   "cell_type": "code",
   "execution_count": null,
   "metadata": {},
   "outputs": [],
   "source": [
    "request4 = {\n",
    "    'stream': 'oper',\n",
    "    'levtype': 'sfc',\n",
    "    'param': '2t/10u/10v',\n",
    "    'step': '0/1/2/3/4/5/6/7/8/9/10/11',\n",
    "    'time': '00/12',\n",
    "    'date': '20200306/to/20200310',\n",
    "    'type': 'fc',\n",
    "    'class': 'od',\n",
    "    'expver': '0001',\n",
    "    'area': '50/15/40/25',\n",
    "    'grid': '1/1'\n",
    "}"
   ]
  },
  {
   "cell_type": "code",
   "execution_count": null,
   "metadata": {},
   "outputs": [],
   "source": [
    "c.retrieve('hidalgo-mars', request4, 'sfc_4.grib')"
   ]
  },
  {
   "cell_type": "code",
   "execution_count": null,
   "metadata": {},
   "outputs": [],
   "source": [
    "ds = xr.open_dataset('sfc_4.grib',engine='cfgrib')\n",
    "ds"
   ]
  },
  {
   "cell_type": "markdown",
   "metadata": {},
   "source": [
    "### Submitting a list of requests\n",
    "Sometimes we want to split our request into 2 smaller requests. We can then submit both requests together as a list.  \n",
    "Let's make a request that accesses the same set of data from the same date, just run from 12 UTC."
   ]
  },
  {
   "cell_type": "code",
   "execution_count": null,
   "metadata": {},
   "outputs": [],
   "source": [
    "request_A = {\n",
    "    'stream': 'oper',\n",
    "    'levtype': 'sfc',\n",
    "    'param': '2t/10u/10v',\n",
    "    'step': '0/1/2/3/4/5/6/7/8/9/10/11',\n",
    "    'time': '00',\n",
    "    'date': '20200306',\n",
    "    'type': 'fc',\n",
    "    'class': 'od',\n",
    "    'expver': '0001',\n",
    "    'area': '50/15/40/25',\n",
    "    'grid': '1/1'\n",
    "}\n",
    "request_B = {\n",
    "    'stream': 'oper',\n",
    "    'levtype': 'sfc',\n",
    "    'param': '2t/10u/10v',\n",
    "    'step': '0/1/2/3/4/5/6/7/8/9/10/11',\n",
    "    'time': '12',\n",
    "    'date': '20200306',\n",
    "    'type': 'fc',\n",
    "    'class': 'od',\n",
    "    'expver': '0001',\n",
    "    'area': '50/15/40/25',\n",
    "    'grid': '1/1'\n",
    "}"
   ]
  },
  {
   "cell_type": "code",
   "execution_count": null,
   "metadata": {},
   "outputs": [],
   "source": [
    "c.retrieve('hidalgo-mars', [request_A,request_B], 'sfc_AB.grib')"
   ]
  },
  {
   "cell_type": "code",
   "execution_count": null,
   "metadata": {},
   "outputs": [],
   "source": [
    "ds = xr.open_dataset('sfc_AB.grib',engine='cfgrib')\n",
    "ds"
   ]
  },
  {
   "cell_type": "markdown",
   "metadata": {},
   "source": [
    "### Asynchronous retrieval \n",
    "If we want to submit a request but run it in background so we can do other things, asynchronous retrieval can also be done. "
   ]
  },
  {
   "cell_type": "code",
   "execution_count": null,
   "metadata": {},
   "outputs": [],
   "source": [
    "r = c.retrieve('hidalgo-mars', [request_A,request_A], 'asyn_AB.grib',\n",
    "               asynchronous = True)"
   ]
  },
  {
   "cell_type": "markdown",
   "metadata": {},
   "source": [
    "Now we can see the info of our requests or download the data when it is ready.  \n",
    "Each request is a member of the list so we can access each of them individually (`r[0]` or `r[1]` in our case)."
   ]
  },
  {
   "cell_type": "code",
   "execution_count": null,
   "metadata": {},
   "outputs": [],
   "source": [
    "r[1].describe()"
   ]
  },
  {
   "cell_type": "markdown",
   "metadata": {},
   "source": [
    "And download.  \n",
    "You can only dowlnoad each request from the list separately. By default they will be appended in the same file.  If for any reason you don't want this you can set parameter append=Flase."
   ]
  },
  {
   "cell_type": "code",
   "execution_count": null,
   "metadata": {},
   "outputs": [],
   "source": [
    "r[0].download()"
   ]
  },
  {
   "cell_type": "code",
   "execution_count": null,
   "metadata": {},
   "outputs": [],
   "source": [
    "r[1].download()"
   ]
  },
  {
   "cell_type": "markdown",
   "metadata": {},
   "source": [
    "We can inspect what is in our grib using xarray. "
   ]
  },
  {
   "cell_type": "code",
   "execution_count": null,
   "metadata": {},
   "outputs": [],
   "source": [
    "ds = xr.open_dataset('asyn_AB.grib',engine='cfgrib')\n",
    "ds"
   ]
  }
 ],
 "metadata": {
  "kernelspec": {
   "display_name": "client",
   "language": "python",
   "name": "client"
  },
  "language_info": {
   "codemirror_mode": {
    "name": "ipython",
    "version": 3
   },
   "file_extension": ".py",
   "mimetype": "text/x-python",
   "name": "python",
   "nbconvert_exporter": "python",
   "pygments_lexer": "ipython3",
   "version": "3.7.8"
  }
 },
 "nbformat": 4,
 "nbformat_minor": 4
}
